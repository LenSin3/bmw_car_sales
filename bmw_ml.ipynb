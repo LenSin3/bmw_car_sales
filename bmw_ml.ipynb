{
 "cells": [
  {
   "cell_type": "markdown",
   "id": "nearby-coating",
   "metadata": {},
   "source": [
    "\n",
    "# Predicting BMW Used Car Price Part I: Load and Clean \n",
    "\n",
    "This project will use Supervised Machine Learning to predict the price of a used BMW car.\n",
    "Part I of this project will load and inspect data. They will also be cleaned and transformed into a suitable format for our analysis."
   ]
  },
  {
   "cell_type": "markdown",
   "id": "empirical-international",
   "metadata": {},
   "source": [
    "The project will follow the below:\n",
    "\n",
    "- Read data\n",
    "- Data validation and profiling\n",
    "- Data transformation\n",
    "- Exploratory data analysis\n",
    "\n",
    "Functions were created to automate the above tasks."
   ]
  },
  {
   "cell_type": "markdown",
   "id": "million-solution",
   "metadata": {},
   "source": [
    "## Read Data\n",
    "\n",
    "The data in csv format will be read in pandas dataframe but first let us import the libraries and modules to use in accomplishing the above mentioned tasks."
   ]
  },
  {
   "cell_type": "markdown",
   "id": "flush-performer",
   "metadata": {},
   "source": [
    "### import dependencies"
   ]
  },
  {
   "cell_type": "code",
   "execution_count": 5,
   "id": "refined-excess",
   "metadata": {},
   "outputs": [],
   "source": [
    "# import dependencies\n",
    "import os\n",
    "import pandas as pd\n",
    "import numpy as np\n",
    "import matplotlib.pyplot as plt\n",
    "import seaborn as sns"
   ]
  },
  {
   "cell_type": "code",
   "execution_count": 6,
   "id": "acoustic-toyota",
   "metadata": {},
   "outputs": [],
   "source": [
    "# import custom modules\n",
    "import funcs\n",
    "import plots\n",
    "import utils"
   ]
  },
  {
   "cell_type": "code",
   "execution_count": 7,
   "id": "possible-vaccine",
   "metadata": {},
   "outputs": [],
   "source": [
    "# specify data path\n",
    "data_path = 'data/bmw.csv'"
   ]
  },
  {
   "cell_type": "code",
   "execution_count": 9,
   "id": "dying-twelve",
   "metadata": {},
   "outputs": [
    {
     "name": "stdout",
     "output_type": "stream",
     "text": [
      "Checking for duplicate rows in the dataframe...\n",
      "Dropping duplicate rows in dataframe.\n",
      "There are 9 columns and 10664 records in the dataframe.\n",
      "Extracting count and percentages of nulls and non nulls\n"
     ]
    }
   ],
   "source": [
    "# read and qa data\n",
    "df, df_null = funcs.read_and_qa(data_path)"
   ]
  },
  {
   "cell_type": "markdown",
   "id": "corrected-encounter",
   "metadata": {},
   "source": [
    "Let's check for nulls in data"
   ]
  },
  {
   "cell_type": "code",
   "execution_count": 10,
   "id": "immune-spiritual",
   "metadata": {},
   "outputs": [
    {
     "name": "stdout",
     "output_type": "stream",
     "text": [
      "There are zero nulls in the DataFrame.\n",
      "No plot to display!\n"
     ]
    }
   ],
   "source": [
    "# plot count of nulls\n",
    "plots.plot_qa(df_null)"
   ]
  },
  {
   "cell_type": "markdown",
   "id": "light-scoop",
   "metadata": {},
   "source": [
    "The does not contain null values.\n",
    "\n",
    "We shall now proceed to inspect the data."
   ]
  },
  {
   "cell_type": "code",
   "execution_count": 11,
   "id": "executive-domestic",
   "metadata": {},
   "outputs": [
    {
     "data": {
      "text/html": [
       "<div>\n",
       "<style scoped>\n",
       "    .dataframe tbody tr th:only-of-type {\n",
       "        vertical-align: middle;\n",
       "    }\n",
       "\n",
       "    .dataframe tbody tr th {\n",
       "        vertical-align: top;\n",
       "    }\n",
       "\n",
       "    .dataframe thead th {\n",
       "        text-align: right;\n",
       "    }\n",
       "</style>\n",
       "<table border=\"1\" class=\"dataframe\">\n",
       "  <thead>\n",
       "    <tr style=\"text-align: right;\">\n",
       "      <th></th>\n",
       "      <th>model</th>\n",
       "      <th>year</th>\n",
       "      <th>price</th>\n",
       "      <th>transmission</th>\n",
       "      <th>mileage</th>\n",
       "      <th>fuelType</th>\n",
       "      <th>tax</th>\n",
       "      <th>mpg</th>\n",
       "      <th>engineSize</th>\n",
       "    </tr>\n",
       "  </thead>\n",
       "  <tbody>\n",
       "    <tr>\n",
       "      <th>0</th>\n",
       "      <td>5 Series</td>\n",
       "      <td>2014</td>\n",
       "      <td>11200</td>\n",
       "      <td>Automatic</td>\n",
       "      <td>67068</td>\n",
       "      <td>Diesel</td>\n",
       "      <td>125</td>\n",
       "      <td>57.6</td>\n",
       "      <td>2.0</td>\n",
       "    </tr>\n",
       "    <tr>\n",
       "      <th>1</th>\n",
       "      <td>6 Series</td>\n",
       "      <td>2018</td>\n",
       "      <td>27000</td>\n",
       "      <td>Automatic</td>\n",
       "      <td>14827</td>\n",
       "      <td>Petrol</td>\n",
       "      <td>145</td>\n",
       "      <td>42.8</td>\n",
       "      <td>2.0</td>\n",
       "    </tr>\n",
       "    <tr>\n",
       "      <th>2</th>\n",
       "      <td>5 Series</td>\n",
       "      <td>2016</td>\n",
       "      <td>16000</td>\n",
       "      <td>Automatic</td>\n",
       "      <td>62794</td>\n",
       "      <td>Diesel</td>\n",
       "      <td>160</td>\n",
       "      <td>51.4</td>\n",
       "      <td>3.0</td>\n",
       "    </tr>\n",
       "    <tr>\n",
       "      <th>3</th>\n",
       "      <td>1 Series</td>\n",
       "      <td>2017</td>\n",
       "      <td>12750</td>\n",
       "      <td>Automatic</td>\n",
       "      <td>26676</td>\n",
       "      <td>Diesel</td>\n",
       "      <td>145</td>\n",
       "      <td>72.4</td>\n",
       "      <td>1.5</td>\n",
       "    </tr>\n",
       "    <tr>\n",
       "      <th>4</th>\n",
       "      <td>7 Series</td>\n",
       "      <td>2014</td>\n",
       "      <td>14500</td>\n",
       "      <td>Automatic</td>\n",
       "      <td>39554</td>\n",
       "      <td>Diesel</td>\n",
       "      <td>160</td>\n",
       "      <td>50.4</td>\n",
       "      <td>3.0</td>\n",
       "    </tr>\n",
       "  </tbody>\n",
       "</table>\n",
       "</div>"
      ],
      "text/plain": [
       "       model  year  price transmission  mileage fuelType  tax   mpg  \\\n",
       "0   5 Series  2014  11200    Automatic    67068   Diesel  125  57.6   \n",
       "1   6 Series  2018  27000    Automatic    14827   Petrol  145  42.8   \n",
       "2   5 Series  2016  16000    Automatic    62794   Diesel  160  51.4   \n",
       "3   1 Series  2017  12750    Automatic    26676   Diesel  145  72.4   \n",
       "4   7 Series  2014  14500    Automatic    39554   Diesel  160  50.4   \n",
       "\n",
       "   engineSize  \n",
       "0         2.0  \n",
       "1         2.0  \n",
       "2         3.0  \n",
       "3         1.5  \n",
       "4         3.0  "
      ]
     },
     "execution_count": 11,
     "metadata": {},
     "output_type": "execute_result"
    }
   ],
   "source": [
    "# check head of data\n",
    "df.head()"
   ]
  },
  {
   "cell_type": "code",
   "execution_count": 14,
   "id": "removable-vulnerability",
   "metadata": {},
   "outputs": [
    {
     "data": {
      "text/html": [
       "<div>\n",
       "<style scoped>\n",
       "    .dataframe tbody tr th:only-of-type {\n",
       "        vertical-align: middle;\n",
       "    }\n",
       "\n",
       "    .dataframe tbody tr th {\n",
       "        vertical-align: top;\n",
       "    }\n",
       "\n",
       "    .dataframe thead th {\n",
       "        text-align: right;\n",
       "    }\n",
       "</style>\n",
       "<table border=\"1\" class=\"dataframe\">\n",
       "  <thead>\n",
       "    <tr style=\"text-align: right;\">\n",
       "      <th></th>\n",
       "      <th>year</th>\n",
       "      <th>price</th>\n",
       "      <th>mileage</th>\n",
       "      <th>tax</th>\n",
       "      <th>mpg</th>\n",
       "      <th>engineSize</th>\n",
       "    </tr>\n",
       "  </thead>\n",
       "  <tbody>\n",
       "    <tr>\n",
       "      <th>count</th>\n",
       "      <td>10664.000000</td>\n",
       "      <td>10664.000000</td>\n",
       "      <td>10664.000000</td>\n",
       "      <td>10664.000000</td>\n",
       "      <td>10664.000000</td>\n",
       "      <td>10664.000000</td>\n",
       "    </tr>\n",
       "    <tr>\n",
       "      <th>mean</th>\n",
       "      <td>2017.062828</td>\n",
       "      <td>22692.888691</td>\n",
       "      <td>25710.978995</td>\n",
       "      <td>131.597431</td>\n",
       "      <td>56.483121</td>\n",
       "      <td>2.170161</td>\n",
       "    </tr>\n",
       "    <tr>\n",
       "      <th>std</th>\n",
       "      <td>2.350668</td>\n",
       "      <td>11434.921030</td>\n",
       "      <td>25146.634940</td>\n",
       "      <td>61.611394</td>\n",
       "      <td>31.465604</td>\n",
       "      <td>0.552556</td>\n",
       "    </tr>\n",
       "    <tr>\n",
       "      <th>min</th>\n",
       "      <td>1996.000000</td>\n",
       "      <td>1200.000000</td>\n",
       "      <td>1.000000</td>\n",
       "      <td>0.000000</td>\n",
       "      <td>5.500000</td>\n",
       "      <td>0.000000</td>\n",
       "    </tr>\n",
       "    <tr>\n",
       "      <th>25%</th>\n",
       "      <td>2016.000000</td>\n",
       "      <td>14897.000000</td>\n",
       "      <td>5665.750000</td>\n",
       "      <td>135.000000</td>\n",
       "      <td>45.600000</td>\n",
       "      <td>2.000000</td>\n",
       "    </tr>\n",
       "    <tr>\n",
       "      <th>50%</th>\n",
       "      <td>2017.000000</td>\n",
       "      <td>20261.500000</td>\n",
       "      <td>18783.000000</td>\n",
       "      <td>145.000000</td>\n",
       "      <td>53.300000</td>\n",
       "      <td>2.000000</td>\n",
       "    </tr>\n",
       "    <tr>\n",
       "      <th>75%</th>\n",
       "      <td>2019.000000</td>\n",
       "      <td>27890.000000</td>\n",
       "      <td>38436.500000</td>\n",
       "      <td>145.000000</td>\n",
       "      <td>62.800000</td>\n",
       "      <td>2.000000</td>\n",
       "    </tr>\n",
       "    <tr>\n",
       "      <th>max</th>\n",
       "      <td>2020.000000</td>\n",
       "      <td>123456.000000</td>\n",
       "      <td>214000.000000</td>\n",
       "      <td>580.000000</td>\n",
       "      <td>470.800000</td>\n",
       "      <td>6.600000</td>\n",
       "    </tr>\n",
       "  </tbody>\n",
       "</table>\n",
       "</div>"
      ],
      "text/plain": [
       "               year          price        mileage           tax           mpg  \\\n",
       "count  10664.000000   10664.000000   10664.000000  10664.000000  10664.000000   \n",
       "mean    2017.062828   22692.888691   25710.978995    131.597431     56.483121   \n",
       "std        2.350668   11434.921030   25146.634940     61.611394     31.465604   \n",
       "min     1996.000000    1200.000000       1.000000      0.000000      5.500000   \n",
       "25%     2016.000000   14897.000000    5665.750000    135.000000     45.600000   \n",
       "50%     2017.000000   20261.500000   18783.000000    145.000000     53.300000   \n",
       "75%     2019.000000   27890.000000   38436.500000    145.000000     62.800000   \n",
       "max     2020.000000  123456.000000  214000.000000    580.000000    470.800000   \n",
       "\n",
       "         engineSize  \n",
       "count  10664.000000  \n",
       "mean       2.170161  \n",
       "std        0.552556  \n",
       "min        0.000000  \n",
       "25%        2.000000  \n",
       "50%        2.000000  \n",
       "75%        2.000000  \n",
       "max        6.600000  "
      ]
     },
     "execution_count": 14,
     "metadata": {},
     "output_type": "execute_result"
    }
   ],
   "source": [
    "# describe numerical features\n",
    "df.describe()"
   ]
  },
  {
   "cell_type": "code",
   "execution_count": 15,
   "id": "indonesian-optimum",
   "metadata": {},
   "outputs": [
    {
     "data": {
      "text/html": [
       "<div>\n",
       "<style scoped>\n",
       "    .dataframe tbody tr th:only-of-type {\n",
       "        vertical-align: middle;\n",
       "    }\n",
       "\n",
       "    .dataframe tbody tr th {\n",
       "        vertical-align: top;\n",
       "    }\n",
       "\n",
       "    .dataframe thead th {\n",
       "        text-align: right;\n",
       "    }\n",
       "</style>\n",
       "<table border=\"1\" class=\"dataframe\">\n",
       "  <thead>\n",
       "    <tr style=\"text-align: right;\">\n",
       "      <th></th>\n",
       "      <th>model</th>\n",
       "      <th>transmission</th>\n",
       "      <th>fuelType</th>\n",
       "    </tr>\n",
       "  </thead>\n",
       "  <tbody>\n",
       "    <tr>\n",
       "      <th>count</th>\n",
       "      <td>10664</td>\n",
       "      <td>10664</td>\n",
       "      <td>10664</td>\n",
       "    </tr>\n",
       "    <tr>\n",
       "      <th>unique</th>\n",
       "      <td>24</td>\n",
       "      <td>3</td>\n",
       "      <td>5</td>\n",
       "    </tr>\n",
       "    <tr>\n",
       "      <th>top</th>\n",
       "      <td>3 Series</td>\n",
       "      <td>Semi-Auto</td>\n",
       "      <td>Diesel</td>\n",
       "    </tr>\n",
       "    <tr>\n",
       "      <th>freq</th>\n",
       "      <td>2434</td>\n",
       "      <td>4637</td>\n",
       "      <td>6988</td>\n",
       "    </tr>\n",
       "  </tbody>\n",
       "</table>\n",
       "</div>"
      ],
      "text/plain": [
       "            model transmission fuelType\n",
       "count       10664        10664    10664\n",
       "unique         24            3        5\n",
       "top      3 Series    Semi-Auto   Diesel\n",
       "freq         2434         4637     6988"
      ]
     },
     "execution_count": 15,
     "metadata": {},
     "output_type": "execute_result"
    }
   ],
   "source": [
    "# describe categorical features\n",
    "df.describe(exclude='number')"
   ]
  },
  {
   "cell_type": "code",
   "execution_count": 12,
   "id": "loose-initial",
   "metadata": {},
   "outputs": [
    {
     "name": "stdout",
     "output_type": "stream",
     "text": [
      "<class 'pandas.core.frame.DataFrame'>\n",
      "RangeIndex: 10664 entries, 0 to 10663\n",
      "Data columns (total 9 columns):\n",
      " #   Column        Non-Null Count  Dtype  \n",
      "---  ------        --------------  -----  \n",
      " 0   model         10664 non-null  object \n",
      " 1   year          10664 non-null  int64  \n",
      " 2   price         10664 non-null  int64  \n",
      " 3   transmission  10664 non-null  object \n",
      " 4   mileage       10664 non-null  int64  \n",
      " 5   fuelType      10664 non-null  object \n",
      " 6   tax           10664 non-null  int64  \n",
      " 7   mpg           10664 non-null  float64\n",
      " 8   engineSize    10664 non-null  float64\n",
      "dtypes: float64(2), int64(4), object(3)\n",
      "memory usage: 749.9+ KB\n"
     ]
    }
   ],
   "source": [
    "# inspect to check for data types\n",
    "df.info()"
   ]
  },
  {
   "cell_type": "markdown",
   "id": "directed-paris",
   "metadata": {},
   "source": [
    "We shall also look at count of unique values in data."
   ]
  },
  {
   "cell_type": "code",
   "execution_count": 13,
   "id": "combined-crack",
   "metadata": {},
   "outputs": [
    {
     "data": {
      "image/png": "[encoded data removed]",
      "text/plain": [
       "<Figure size 1080x864 with 1 Axes>"
      ]
     },
     "metadata": {
      "needs_background": "light"
     },
     "output_type": "display_data"
    }
   ],
   "source": [
    "# plot unique value counts\n",
    "plots.plot_unique_vals_count(df)"
   ]
  },
  {
   "cell_type": "markdown",
   "id": "above-lawyer",
   "metadata": {},
   "source": [
    "Our focus is more on the categorical features when deciding to create the above plot as it displays the count of unique values. We can tell that there are 24 unique bmw models, 5 distinct fuel types and, 3 distinct transmission categories. Also, the describe cells give us an idea of the time period being analyzed (1996 - 2020) and summary statistics of numerical features. For example, we can tell the max price in this dataset is $123,456.00"
   ]
  }
 ],
 "metadata": {
  "kernelspec": {
   "display_name": "Python [conda env:pythonadv] *",
   "language": "python",
   "name": "conda-env-pythonadv-py"
  },
  "language_info": {
   "codemirror_mode": {
    "name": "ipython",
    "version": 3
   },
   "file_extension": ".py",
   "mimetype": "text/x-python",
   "name": "python",
   "nbconvert_exporter": "python",
   "pygments_lexer": "ipython3",
   "version": "3.6.12"
  }
 },
 "nbformat": 4,
 "nbformat_minor": 5
}
