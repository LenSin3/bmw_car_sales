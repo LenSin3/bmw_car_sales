{
 "cells": [
  {
   "cell_type": "markdown",
   "id": "hired-setting",
   "metadata": {},
   "source": [
    "\n",
    "# Predicting BMW Used Car Price Part I: Load and Clean \n",
    "\n",
    "This project will use Supervised Machine Learning to predict the price of a used BMW car.\n",
    "Part I of this project will load and inspect data. They will also be cleaned and transformed into a suitable format for our analysis."
   ]
  }
 ],
 "metadata": {
  "kernelspec": {
   "display_name": "Python [conda env:pythonadv] *",
   "language": "python",
   "name": "conda-env-pythonadv-py"
  },
  "language_info": {
   "codemirror_mode": {
    "name": "ipython",
    "version": 3
   },
   "file_extension": ".py",
   "mimetype": "text/x-python",
   "name": "python",
   "nbconvert_exporter": "python",
   "pygments_lexer": "ipython3",
   "version": "3.6.12"
  }
 },
 "nbformat": 4,
 "nbformat_minor": 5
}
