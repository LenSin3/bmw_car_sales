{
 "cells": [
  {
   "cell_type": "markdown",
   "id": "aquatic-waste",
   "metadata": {},
   "source": [
    "# Predict BMW Used Car Price - A Deep Learning Approach"
   ]
  },
  {
   "cell_type": "code",
   "execution_count": null,
   "id": "material-brass",
   "metadata": {},
   "outputs": [],
   "source": []
  }
 ],
 "metadata": {
  "kernelspec": {
   "display_name": "Python [conda env:pythonadv] *",
   "language": "python",
   "name": "conda-env-pythonadv-py"
  },
  "language_info": {
   "codemirror_mode": {
    "name": "ipython",
    "version": 3
   },
   "file_extension": ".py",
   "mimetype": "text/x-python",
   "name": "python",
   "nbconvert_exporter": "python",
   "pygments_lexer": "ipython3",
   "version": "3.6.12"
  }
 },
 "nbformat": 4,
 "nbformat_minor": 5
}
